{
 "cells": [
  {
   "cell_type": "markdown",
   "id": "1fdbf59d-cd26-4cd4-a998-51b73ea41a75",
   "metadata": {},
   "source": [
    "## Transfer Learning - Skin Cancer\n",
    "\n"
   ]
  },
  {
   "cell_type": "code",
   "execution_count": 3,
   "id": "fb503d57-3987-43c1-93c2-02b7fe26836d",
   "metadata": {},
   "outputs": [],
   "source": [
    "from tensorflow.keras.models import Model\n",
    "from tensorflow.keras.applications.vgg16 import VGG16\n",
    "from tensorflow.keras.applications.vgg16 import preprocess_input\n",
    "from tensorflow.keras.preprocessing import image\n",
    "\n",
    "from tensorflow.keras.models import Sequential\n",
    "import numpy as np\n",
    "from glob import glob\n",
    "import matplotlib.pyplot as plt\n"
   ]
  },
  {
   "cell_type": "code",
   "execution_count": 4,
   "id": "44657bb7-f183-49d3-999c-8f43bc1a7517",
   "metadata": {},
   "outputs": [],
   "source": [
    "Image_Size=[224,224]"
   ]
  },
  {
   "cell_type": "code",
   "execution_count": 5,
   "id": "f751c117-27e4-466b-bbdb-08d7e82d99f4",
   "metadata": {},
   "outputs": [],
   "source": [
    "train_path=\"Deep Learning for Visual Computing/skin_caner_dataset/train\"\n",
    "test_path=\"Deep Learning for Visual Computing/skin_caner_dataset/test\""
   ]
  },
  {
   "cell_type": "code",
   "execution_count": 6,
   "id": "9607ab7f-a9e5-4ac7-8558-202f9a60c0e0",
   "metadata": {},
   "outputs": [],
   "source": [
    "import os \n",
    "from IPython.display import display \n",
    "from IPython.display import Image as _Imgdis"
   ]
  },
  {
   "cell_type": "code",
   "execution_count": 12,
   "id": "2a09f9cb-4802-4bd4-9f41-c042c245aa38",
   "metadata": {},
   "outputs": [
    {
     "ename": "FileNotFoundError",
     "evalue": "[WinError 3] The system cannot find the path specified: 'Deep Learning for Visual Computing/skin_caner_dataset/train/benign/'",
     "output_type": "error",
     "traceback": [
      "\u001b[1;31m---------------------------------------------------------------------------\u001b[0m",
      "\u001b[1;31mFileNotFoundError\u001b[0m                         Traceback (most recent call last)",
      "Cell \u001b[1;32mIn[12], line 2\u001b[0m\n\u001b[0;32m      1\u001b[0m benign_train \u001b[38;5;241m=\u001b[39m \u001b[38;5;124mr\u001b[39m\u001b[38;5;124m\"\u001b[39m\u001b[38;5;124mDeep Learning for Visual Computing/skin_caner_dataset/train/benign/\u001b[39m\u001b[38;5;124m\"\u001b[39m\n\u001b[1;32m----> 2\u001b[0m \u001b[38;5;28;01mfor\u001b[39;00m i \u001b[38;5;129;01min\u001b[39;00m os\u001b[38;5;241m.\u001b[39mlistdir(benign_train)[:\u001b[38;5;241m5\u001b[39m]:\n\u001b[0;32m      3\u001b[0m   display(_Imgdis(filename\u001b[38;5;241m=\u001b[39mbenign_train \u001b[38;5;241m+\u001b[39m \u001b[38;5;124m'\u001b[39m\u001b[38;5;124m/\u001b[39m\u001b[38;5;124m'\u001b[39m \u001b[38;5;241m+\u001b[39m i, width\u001b[38;5;241m=\u001b[39m\u001b[38;5;241m150\u001b[39m))\n",
      "\u001b[1;31mFileNotFoundError\u001b[0m: [WinError 3] The system cannot find the path specified: 'Deep Learning for Visual Computing/skin_caner_dataset/train/benign/'"
     ]
    }
   ],
   "source": [
    "benign_train = r\"Deep Learning for Visual Computing/skin_caner_dataset/train/benign/\"\n",
    "for i in os.listdir(benign_train)[:5]:\n",
    "  display(_Imgdis(filename=benign_train + '/' + i, width=150))"
   ]
  },
  {
   "cell_type": "code",
   "execution_count": null,
   "id": "e7bb260f-8d7e-43a6-907a-5fca1b31ae52",
   "metadata": {},
   "outputs": [],
   "source": []
  }
 ],
 "metadata": {
  "kernelspec": {
   "display_name": "Python 3 (ipykernel)",
   "language": "python",
   "name": "python3"
  },
  "language_info": {
   "codemirror_mode": {
    "name": "ipython",
    "version": 3
   },
   "file_extension": ".py",
   "mimetype": "text/x-python",
   "name": "python",
   "nbconvert_exporter": "python",
   "pygments_lexer": "ipython3",
   "version": "3.11.7"
  }
 },
 "nbformat": 4,
 "nbformat_minor": 5
}
